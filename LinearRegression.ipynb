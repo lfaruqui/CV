{
  "nbformat": 4,
  "nbformat_minor": 0,
  "metadata": {
    "colab": {
      "name": "Lab7Task1.ipynb",
      "provenance": [],
      "collapsed_sections": []
    },
    "kernelspec": {
      "name": "python3",
      "display_name": "Python 3"
    },
    "language_info": {
      "name": "python"
    },
    "accelerator": "GPU"
  },
  "cells": [
    {
      "cell_type": "code",
      "source": [
        "from google.colab import drive\n",
        "drive.mount('/content/drive')"
      ],
      "metadata": {
        "colab": {
          "base_uri": "https://localhost:8080/"
        },
        "id": "R7F6N8Rj13eF",
        "outputId": "81ea6121-a946-4c2e-d462-dc3e2fcc53fb"
      },
      "execution_count": null,
      "outputs": [
        {
          "output_type": "stream",
          "name": "stdout",
          "text": [
            "Mounted at /content/drive\n"
          ]
        }
      ]
    },
    {
      "cell_type": "code",
      "execution_count": null,
      "metadata": {
        "id": "1p942CMlyi82",
        "colab": {
          "base_uri": "https://localhost:8080/",
          "height": 351
        },
        "outputId": "f7066494-1f9a-4d33-bec2-cbbdb4df1ddb"
      },
      "outputs": [
        {
          "output_type": "stream",
          "name": "stderr",
          "text": [
            "/usr/local/lib/python3.7/dist-packages/torch/nn/modules/loss.py:520: UserWarning: Using a target size (torch.Size([313])) that is different to the input size (torch.Size([313, 1])). This will likely lead to incorrect results due to broadcasting. Please ensure they have the same size.\n",
            "  return F.mse_loss(input, target, reduction=self.reduction)\n"
          ]
        },
        {
          "output_type": "execute_result",
          "data": {
            "text/plain": [
              "[<matplotlib.lines.Line2D at 0x7fee6c76cfd0>]"
            ]
          },
          "metadata": {},
          "execution_count": 15
        },
        {
          "output_type": "display_data",
          "data": {
            "text/plain": [
              "<Figure size 432x288 with 1 Axes>"
            ],
            "image/png": "[encoded data removed]"
          },
          "metadata": {
            "needs_background": "light"
          }
        }
      ],
      "source": [
        "import numpy as np\n",
        "import torch\n",
        "import math\n",
        "import matplotlib.pyplot as plt\n",
        "\n",
        "with open('/content/drive/Shareddrives/Compv5/auto-mpg.data') as file:\n",
        "    data = []\n",
        "    for line in file:\n",
        "        # delete entries with '?' in them ... can't convert to float.\n",
        "        entry = line.split()[:6]\n",
        "        if '?' not in entry:\n",
        "            data.append(entry)\n",
        "\n",
        "# Convert data to numpy array.\n",
        "np_data = np.array(data).astype('float')\n",
        "\n",
        "# Train/test split\n",
        "train   = np.array(np_data[:math.floor(len(data) * 0.8)])\n",
        "x_train = torch.tensor(train[:, 1:]).float().cuda()\n",
        "y_train = torch.tensor(train[:, 0]).float().cuda()\n",
        "test    = np.array(np_data[math.floor(len(data) * 0.8):])\n",
        "x_test  = torch.tensor(test[:, 1:]).float().cuda()\n",
        "y_test  = torch.tensor(test[:, 0]).float().cuda()\n",
        "\n",
        "# Classifier\n",
        "class LinearClassifier(torch.nn.Module):\n",
        "    def __init__(self, input_dim=5, output_dim=1):\n",
        "        super(LinearClassifier, self).__init__()\n",
        "        self.linear = torch.nn.Linear(input_dim, output_dim)\n",
        "  \n",
        "    def forward(self, x):\n",
        "        return self.linear(x)\n",
        "\n",
        "model     = LinearClassifier().cuda()\n",
        "criterion = torch.nn.MSELoss()\n",
        "optimizer = torch.optim.SGD(model.parameters(), lr=0.000000002)\n",
        "all_loss  = []\n",
        "\n",
        "for epoch in range(10000):\n",
        "    output = model(x_train)\n",
        "    loss   = criterion(output, y_train.view(-1))\n",
        "    all_loss.append(loss.item())\n",
        "    loss.backward()\n",
        "    optimizer.step()\n",
        "    optimizer.zero_grad()\n",
        "\n",
        "plt.plot(all_loss)"
      ]
    },
    {
      "cell_type": "code",
      "source": [
        "predictions = []\n",
        "for i in range(len(x_test)):\n",
        "    predictions.append(model(x_test[i]))\n",
        "\n",
        "print('Prediction   Ground Truth   Difference')\n",
        "for i in range(len(predictions)):\n",
        "    print(f'{predictions[i].item():10.2f}{y_test[i]:15.2f}{predictions[i].item() - y_test[i]:13.2f}')\n",
        "\n",
        "predictions_t = torch.tensor(predictions).cuda()\n",
        "mse = ((predictions_t - y_test)**2).sum().data / predictions_t.shape[0]\n",
        "\n",
        "print(f'\\nMean Squared Error: {mse}')"
      ],
      "metadata": {
        "colab": {
          "base_uri": "https://localhost:8080/"
        },
        "id": "bhMQcmWbIzGX",
        "outputId": "d7d8d65c-965e-4da1-d52f-8cdf0ffc4f29"
      },
      "execution_count": null,
      "outputs": [
        {
          "output_type": "stream",
          "name": "stdout",
          "text": [
            "Prediction   Ground Truth   Difference\n",
            "     45.27          24.30        20.97\n",
            "     37.87          19.10        18.77\n",
            "     32.49          34.30        -1.81\n",
            "     38.05          29.80         8.25\n",
            "     40.99          31.30         9.69\n",
            "     30.78          37.00        -6.22\n",
            "     33.26          32.20         1.06\n",
            "     37.45          46.60        -9.15\n",
            "     29.79          27.90         1.89\n",
            "     37.94          40.80        -2.86\n",
            "     41.76          44.30        -2.54\n",
            "     51.88          43.40         8.48\n",
            "     59.59          36.40        23.19\n",
            "     64.63          30.00        34.63\n",
            "     24.47          44.60       -20.13\n",
            "     34.94          33.80         1.14\n",
            "     26.82          29.80        -2.98\n",
            "     20.32          32.70       -12.38\n",
            "     41.58          23.70        17.88\n",
            "     33.90          35.00        -1.10\n",
            "     35.84          32.40         3.44\n",
            "     31.20          27.20         4.00\n",
            "     32.34          26.60         5.74\n",
            "     27.23          25.80         1.43\n",
            "     19.40          23.50        -4.10\n",
            "     26.65          30.00        -3.35\n",
            "     27.82          39.10       -11.28\n",
            "     28.34          39.00       -10.66\n",
            "     26.62          35.10        -8.48\n",
            "     31.77          32.30        -0.53\n",
            "     32.67          37.00        -4.33\n",
            "     35.16          37.70        -2.54\n",
            "     29.76          34.10        -4.34\n",
            "     36.27          34.70         1.57\n",
            "     31.15          34.40        -3.25\n",
            "     44.98          29.90        15.08\n",
            "     31.38          33.00        -1.62\n",
            "     31.27          33.70        -2.43\n",
            "     36.84          32.40         4.44\n",
            "     35.08          32.90         2.18\n",
            "     45.11          31.60        13.51\n",
            "     60.59          28.10        32.49\n",
            "     57.44          30.70        26.74\n",
            "     25.65          25.40         0.25\n",
            "     32.02          24.20         7.82\n",
            "     30.10          22.40         7.70\n",
            "      9.37          26.60       -17.23\n",
            "     32.99          20.20        12.79\n",
            "     42.57          17.60        24.97\n",
            "     41.61          28.00        13.61\n",
            "     42.83          27.00        15.83\n",
            "     33.13          34.00        -0.87\n",
            "     40.95          31.00         9.95\n",
            "     32.62          29.00         3.62\n",
            "     34.43          27.00         7.43\n",
            "     41.80          24.00        17.80\n",
            "     23.31          36.00       -12.69\n",
            "     31.67          37.00        -5.33\n",
            "     29.42          31.00        -1.58\n",
            "     32.71          38.00        -5.29\n",
            "     32.72          36.00        -3.28\n",
            "     21.05          36.00       -14.95\n",
            "     31.09          36.00        -4.91\n",
            "     34.46          34.00         0.46\n",
            "     29.17          38.00        -8.83\n",
            "     29.27          32.00        -2.73\n",
            "     30.53          38.00        -7.47\n",
            "     26.29          25.00         1.29\n",
            "     14.22          38.00       -23.78\n",
            "     25.87          26.00        -0.13\n",
            "      6.19          22.00       -15.81\n",
            "     31.02          32.00        -0.98\n",
            "     26.08          36.00        -9.92\n",
            "     42.76          27.00        15.76\n",
            "     40.81          27.00        13.81\n",
            "     40.55          44.00        -3.45\n",
            "     22.92          32.00        -9.08\n",
            "     43.03          28.00        15.03\n",
            "     46.13          31.00        15.13\n",
            "\n",
            "Mean Squared Error: 140.78163146972656\n"
          ]
        }
      ]
    },
    {
      "cell_type": "code",
      "source": [
        "!jupyter nbconvert --to html \"/content/drive/Shareddrives/Compv5/Lab7Task1.ipynb\""
      ],
      "metadata": {
        "colab": {
          "base_uri": "https://localhost:8080/"
        },
        "id": "7Z7ZOOn1G3DZ",
        "outputId": "46e92b65-11e8-4a7a-d19d-c53e578599e4"
      },
      "execution_count": null,
      "outputs": [
        {
          "output_type": "stream",
          "name": "stdout",
          "text": [
            "[NbConvertApp] Converting notebook /content/drive/Shareddrives/Compv5/Lab7Task1.ipynb to html\n",
            "[NbConvertApp] Writing 297681 bytes to /content/drive/Shareddrives/Compv5/Lab7Task1.html\n"
          ]
        }
      ]
    }
  ]
}