{
  "cells": [
    {
      "cell_type": "code",
      "execution_count": null,
      "metadata": {
        "id": "lNa_6B-HJw6o",
        "colab": {
          "base_uri": "https://localhost:8080/"
        },
        "outputId": "885404f3-ad58-416a-cd9f-5098f144089b"
      },
      "outputs": [
        {
          "output_type": "stream",
          "name": "stdout",
          "text": [
            "Mounted at /content/drive\n"
          ]
        }
      ],
      "source": [
        "from google.colab import drive\n",
        "drive.mount('/content/drive')"
      ]
    },
    {
      "cell_type": "code",
      "execution_count": null,
      "metadata": {
        "colab": {
          "base_uri": "https://localhost:8080/"
        },
        "id": "fK5mXcykSaa5",
        "outputId": "9c781207-fa55-4295-c045-d428a10edf8a"
      },
      "outputs": [
        {
          "output_type": "stream",
          "name": "stdout",
          "text": [
            "Downloading data from https://storage.googleapis.com/tensorflow/tf-keras-datasets/mnist.npz\n",
            "11493376/11490434 [==============================] - 0s 0us/step\n",
            "11501568/11490434 [==============================] - 0s 0us/step\n"
          ]
        }
      ],
      "source": [
        "import time\n",
        "import numpy as np\n",
        "import torch\n",
        "import torch.nn.functional as F\n",
        "import math\n",
        "import matplotlib.pyplot as plt\n",
        "from torchsummary import summary\n",
        "import torchvision.models as models\n",
        "import tensorflow as tf\n",
        "from skimage.transform import resize\n",
        "import torch.nn as nn\n",
        "from torchvision import transforms\n",
        "import os\n",
        "from typing import Any\n",
        "from torchvision.transforms import Resize\n",
        "import torch\n",
        "import torch.nn as nn\n",
        "from cv2 import cv2\n",
        "\n",
        "# Raw data\n",
        "(raw_x_train, raw_y_train), (raw_x_test, raw_y_test) = tf.keras.datasets.mnist.load_data()\n",
        "\n",
        "def normalize(picture):\n",
        "    normalizedPicture = (picture - np.min(picture)) / (np.max(picture) - np.min(picture))\n",
        "    return normalizedPicture\n",
        "\n",
        "# Prepare raw data for use in each CNN \n",
        "def prepare_data(x_train, y_train, x_test, y_test):\n",
        "    x_train = normalize(x_train)\n",
        "    x_test  = normalize(x_test)\n",
        "    x_train = torch.tensor(x_train).float().cuda()\n",
        "    y_train = torch.tensor(y_train).float().cuda()\n",
        "    x_test  = torch.tensor(x_test).float().cuda()\n",
        "    y_test  = torch.tensor(y_test).float().cuda()\n",
        "    return    (x_train, y_train, x_test, y_test)\n"
      ]
    },
    {
      "cell_type": "code",
      "execution_count": null,
      "metadata": {
        "id": "kJ_qZtkVStUx"
      },
      "outputs": [],
      "source": [
        "# Compare Custom model to linear classifier\n",
        "\n",
        "class LinearClassifier(torch.nn.Module):\n",
        "    def __init__(self, input_dim=784, output_dim=10):\n",
        "        super(LinearClassifier, self).__init__()\n",
        "        self.linear = torch.nn.Linear(input_dim, output_dim)\n",
        "  \n",
        "    def forward(self, x):\n",
        "        return self.linear(x)\n",
        "\n",
        "# https://pytorch.org/tutorials/beginner/blitz/cifar10_tutorial.html\n",
        "class CustomCNN(nn.Module):\n",
        "    def __init__(self, input_dim=28*28, output_dim=10):\n",
        "        super(CustomCNN, self).__init__()\n",
        "        self.conv1 = nn.Conv2d(1, 6, 3)\n",
        "        self.conv2 = nn.Conv2d(6, 10, 5)\n",
        "        self.conv3 = nn.Conv2d(10, 20, 3)\n",
        "        self.pool = nn.MaxPool2d(2, 2)\n",
        "        self.linear = nn.Linear(20, 10)\n",
        "\n",
        "    def forward(self, x):\n",
        "        x = self.pool(F.relu(self.conv1(x)))\n",
        "        x = self.pool(F.relu(self.conv2(x)))\n",
        "        x = self.pool(F.relu(self.conv3(x)))\n",
        "        x = torch.flatten(x, 1)\n",
        "        return self.linear(x)\n",
        "\n",
        "#https://pytorch.org/vision/stable/_modules/torchvision/models/alexnet.html\n",
        "__all__ = [\"AlexNet\", \"alexnet\"]\n",
        "\n",
        "model_urls = {\n",
        "    \"alexnet\": \"https://download.pytorch.org/models/alexnet-owt-7be5be79.pth\",\n",
        "}\n",
        "\n",
        "class AlexNet(nn.Module):\n",
        "    def __init__(self, num_classes: int = 10, dropout: float = 0.5) -> None:\n",
        "        super().__init__()\n",
        "        self.features = nn.Sequential(\n",
        "            nn.Conv2d(1, 64, kernel_size=11, stride=4, padding=2),\n",
        "            nn.ReLU(inplace=True),\n",
        "            nn.MaxPool2d(kernel_size=3, stride=2),\n",
        "            nn.Conv2d(64, 192, kernel_size=5, padding=2),\n",
        "            nn.ReLU(inplace=True),\n",
        "            nn.MaxPool2d(kernel_size=3, stride=2),\n",
        "            nn.Conv2d(192, 384, kernel_size=3, padding=1),\n",
        "            nn.ReLU(inplace=True),\n",
        "            nn.Conv2d(384, 256, kernel_size=3, padding=1),\n",
        "            nn.ReLU(inplace=True),\n",
        "            nn.Conv2d(256, 256, kernel_size=3, padding=1),\n",
        "            nn.ReLU(inplace=True),\n",
        "            nn.MaxPool2d(kernel_size=3, stride=2),\n",
        "        )\n",
        "        self.avgpool = nn.AdaptiveAvgPool2d((6, 6))\n",
        "        self.classifier = nn.Sequential(\n",
        "            nn.Dropout(p=dropout),\n",
        "            nn.Linear(256 * 6 * 6, 4096),\n",
        "            nn.ReLU(inplace=True),\n",
        "            nn.Dropout(p=dropout),\n",
        "            nn.Linear(4096, 4096),\n",
        "            nn.ReLU(inplace=True),\n",
        "            nn.Linear(4096, num_classes),\n",
        "        )\n",
        "\n",
        "    def forward(self, x: torch.Tensor) -> torch.Tensor:\n",
        "        x = self.features(x)\n",
        "        x = self.avgpool(x)\n",
        "        x = torch.flatten(x, 1)\n",
        "        x = self.classifier(x)\n",
        "        return x"
      ]
    },
    {
      "cell_type": "code",
      "execution_count": null,
      "metadata": {
        "id": "l6EvD3_cOx1v"
      },
      "outputs": [],
      "source": [
        "# Train linear classifier\n",
        "\n",
        "PATH = '/content/drive/Shareddrives/Compv5/FinalProject/'\n",
        "\n",
        "# Prepare data\n",
        "x_train, y_train, x_test, y_test = prepare_data(raw_x_train, raw_y_train, raw_x_test, raw_y_test)\n",
        "x_train = x_train.view(-1, 28*28)\n",
        "x_test  = x_test.view(-1, 28*28)\n",
        "\n",
        "if os.path.exists(PATH + 'lc.pth'):\n",
        "    lc = LinearClassifier().cuda()\n",
        "    lc.load_state_dict(torch.load(PATH + 'lc.pth'))\n",
        "    lc.eval()\n",
        "\n",
        "else:\n",
        "    beg = time.time()\n",
        "\n",
        "    lc = LinearClassifier().cuda()\n",
        "    criterion = torch.nn.CrossEntropyLoss()\n",
        "    optimizer = torch.optim.SGD(lc.parameters(), lr=0.01)\n",
        "    all_loss  = []\n",
        "\n",
        "    for epoch in range(1000):\n",
        "        output = lc(x_train)\n",
        "        loss = criterion(output, y_train.long())\n",
        "        all_loss.append(loss.item())\n",
        "        loss.backward()\n",
        "        optimizer.step()\n",
        "        optimizer.zero_grad()\n",
        "    \n",
        "    torch.save(lc.state_dict(), PATH + 'lc.pth')\n",
        "\n",
        "    end = time.time()\n",
        "\n",
        "    total1 = end - beg\n",
        "    \n",
        "    print(f'Total time: {total1} seconds.')"
      ]
    },
    {
      "cell_type": "code",
      "execution_count": null,
      "metadata": {
        "id": "mmxqXhidUbnk",
        "colab": {
          "base_uri": "https://localhost:8080/"
        },
        "outputId": "ede981a3-0e45-4177-be16-9df5203fe01c"
      },
      "outputs": [
        {
          "output_type": "stream",
          "name": "stdout",
          "text": [
            "Total time: 1402.64315366745 seconds.\n"
          ]
        }
      ],
      "source": [
        "# Train custom classifier\n",
        "\n",
        "PATH = '/content/drive/Shareddrives/Compv5/FinalProject/'\n",
        "\n",
        "# Prepare data\n",
        "x_train, y_train, x_test, y_test = prepare_data(raw_x_train, raw_y_train, raw_x_test, raw_y_test)\n",
        "\n",
        "# Add extra dimension (index 1): ([60000, 28, 28]) -> ([60000, 1, 28, 28])\n",
        "x_train = x_train.unsqueeze(1)\n",
        "\n",
        "# Split x into batches for training\n",
        "\n",
        "\n",
        "beg = time.time()\n",
        "\n",
        "cnn       = CustomCNN().cuda()\n",
        "criterion = torch.nn.CrossEntropyLoss()\n",
        "optimizer = torch.optim.SGD(cnn.parameters(), lr=0.01)\n",
        "all_loss  = []\n",
        "\n",
        "for epoch in range(1000):\n",
        "    for i in range(x_train.shape[0] // 500):\n",
        "        output = cnn(x_train[i*500:(i+1)*500])\n",
        "        loss = criterion(output, y_train.long()[i*500:(i+1)*500])\n",
        "        all_loss.append(loss.item())\n",
        "        loss.backward()\n",
        "        optimizer.step()\n",
        "        optimizer.zero_grad()\n",
        "\n",
        "end = time.time()\n",
        "total1 = end - beg\n",
        "\n",
        "print(f'Total time: {total1} seconds.')"
      ]
    },
    {
      "cell_type": "code",
      "execution_count": null,
      "metadata": {
        "id": "w0fFkGMOAVRD"
      },
      "outputs": [],
      "source": [
        "# Train AlexNet. Reduced dataset to 5000 training, 1000 testing. Memory constraints.\n",
        "\n",
        "PATH = '/content/drive/Shareddrives/Compv5/FinalProject/'\n",
        "\n",
        "x_train, y_train, x_test, y_test = prepare_data(raw_x_train, raw_y_train, raw_x_test, raw_y_test)\n",
        "x_train = x_train.unsqueeze(1)[:5000]\n",
        "x_test  = x_test.unsqueeze(1)[:1000]\n",
        "\n",
        "resize  = Resize((224, 224))\n",
        "x_train = resize(x_train)\n",
        "x_test  = resize(x_test)\n",
        "\n",
        "if os.path.exists(PATH + 'AlexNet.pth'):\n",
        "    an = AlexNet().cuda()\n",
        "    an.load_state_dict(torch.load(PATH + 'AlexNet.pth'))\n",
        "    an.eval()\n",
        "\n",
        "else:\n",
        "    beg = time.time()\n",
        "\n",
        "    an        = AlexNet().cuda()\n",
        "    criterion = torch.nn.CrossEntropyLoss()\n",
        "    optimizer = torch.optim.SGD(an.parameters(), lr=0.01)\n",
        "    all_loss  = []\n",
        "\n",
        "    for epoch in range(100):\n",
        "        for i in range(x_train.shape[0] // 10):\n",
        "            output = an(x_train[i*10:(i+1)*10])\n",
        "            loss = criterion(output, y_train.long()[i*10:(i+1)*10])\n",
        "            all_loss.append(loss.item())\n",
        "            loss.backward()\n",
        "            optimizer.step()\n",
        "            optimizer.zero_grad()\n",
        "\n",
        "    end = time.time()\n",
        "\n",
        "    torch.save(an.state_dict(), PATH + 'AlexNet.pth')\n",
        "\n",
        "    total1 = end - beg\n",
        "\n",
        "    print(f'Total time: {total1} seconds.')\n"
      ]
    },
    {
      "cell_type": "code",
      "execution_count": null,
      "metadata": {
        "colab": {
          "base_uri": "https://localhost:8080/"
        },
        "id": "bRE8XlBQpCb0",
        "outputId": "f1db67b9-96a8-4305-f53a-4518914be6f9"
      },
      "outputs": [
        {
          "output_type": "stream",
          "name": "stdout",
          "text": [
            "Linear classifier accuracy: 86.99%\n",
            "CNN Accuracy: 98.16%\n",
            "AlexNet accuracy: 96.80%\n"
          ]
        }
      ],
      "source": [
        "# Linear Classifier performance\n",
        "lc_x_train, lc_y_train, lc_x_test, lc_y_test = prepare_data(raw_x_train, raw_y_train, raw_x_test, raw_y_test)\n",
        "lc_x_test = lc_x_test.view(-1, 28*28)\n",
        "lc_predictions  = lc(lc_x_test)\n",
        "lc_pred_classes = lc_predictions.max(1).indices\n",
        "lc_accuracy = ((lc_pred_classes == lc_y_test).sum().item() / lc_pred_classes.shape[0]) * 100\n",
        "print(f'Linear classifier accuracy: {lc_accuracy:.2f}%')\n",
        "\n",
        "# CNN Performance\n",
        "cnn_x_train, cnn_y_train, cnn_x_test, cnn_y_test = prepare_data(raw_x_train, raw_y_train, raw_x_test, raw_y_test)\n",
        "cnn_x_test  = cnn_x_test.unsqueeze(1)\n",
        "cnn_predictions  = cnn(cnn_x_test)\n",
        "cnn_pred_classes = cnn_predictions.max(1).indices\n",
        "cnn_accuracy = ((cnn_pred_classes == cnn_y_test).sum().item() / cnn_pred_classes.shape[0]) * 100\n",
        "print(f'CNN Accuracy: {cnn_accuracy:.2f}%')\n",
        "\n",
        "# AlexNet performance\n",
        "alex_x_train, alex_y_train, alex_x_test, alex_y_test = prepare_data(raw_x_train, raw_y_train, raw_x_test, raw_y_test)\n",
        "alex_x_test = alex_x_test.unsqueeze(1)[:1000]\n",
        "alex_y_test = alex_y_test[:1000]\n",
        "resize  = Resize((224, 224))\n",
        "alex_x_test  = resize(alex_x_test)\n",
        "alex_predictions = an(alex_x_test)\n",
        "alex_pred_classes = alex_predictions.max(1).indices\n",
        "alex_accuracy = ((alex_pred_classes == alex_y_test).sum().item() / alex_pred_classes.shape[0]) * 100\n",
        "print(f'AlexNet accuracy: {alex_accuracy:.2f}%')\n"
      ]
    },
    {
      "cell_type": "code",
      "execution_count": null,
      "metadata": {
        "colab": {
          "base_uri": "https://localhost:8080/",
          "height": 573
        },
        "id": "_CbCJWuY4hP_",
        "outputId": "0cc964aa-549f-4a4a-c4ea-0865121b7234"
      },
      "outputs": [
        {
          "output_type": "display_data",
          "data": {
            "text/plain": [
              "<Figure size 432x288 with 1 Axes>"
            ],
            "image/png": "[encoded data removed]"
          },
          "metadata": {
            "needs_background": "light"
          }
        },
        {
          "output_type": "display_data",
          "data": {
            "text/plain": [
              "<Figure size 432x288 with 1 Axes>"
            ],
            "image/png": "[encoded data removed]"
          },
          "metadata": {
            "needs_background": "light"
          }
        }
      ],
      "source": [
        "PATH = '/content/drive/Shareddrives/Compv5/FinalProject/'\n",
        "names = []\n",
        "times = []\n",
        "accs  = []\n",
        "with open(PATH + 'data.csv', 'r') as file:\n",
        "    for line in file:\n",
        "        data = line.rsplit(',' or '\\n')\n",
        "        names.append(data[0].rstrip())\n",
        "        times.append(float(data[1].rstrip()))\n",
        "        accs.append(float(data[2].rstrip()))\n",
        "\n",
        "plt.bar(names, times)\n",
        "plt.title('Classifier Type Vs. Training Time')\n",
        "plt.xlabel('Classifier Type')\n",
        "plt.ylabel('Training Time (seconds)')\n",
        "plt.savefig(PATH + 'TrainingTime.png')\n",
        "plt.show()\n",
        "\n",
        "plt.bar(names, accs)\n",
        "plt.title('Classifier Type Vs. Accuracy')\n",
        "plt.xlabel('Classifier Type')\n",
        "plt.ylabel('Accuracy (%)')\n",
        "plt.savefig(PATH + 'Accuracy.png')\n",
        "plt.show()"
      ]
    },
    {
      "cell_type": "code",
      "source": [
        "!jupyter nbconvert --to html \"/content/drive/Shareddrives/Compv5/FinalProject/FinalProject.ipynb\""
      ],
      "metadata": {
        "colab": {
          "base_uri": "https://localhost:8080/"
        },
        "id": "CMNMnCbb4R_Q",
        "outputId": "0a316a72-27b7-41de-9ec0-64d29880562b"
      },
      "execution_count": null,
      "outputs": [
        {
          "output_type": "stream",
          "name": "stdout",
          "text": [
            "[NbConvertApp] Converting notebook /content/drive/Shareddrives/Compv5/FinalProject/FinalProject.ipynb to html\n",
            "[NbConvertApp] Writing 351750 bytes to /content/drive/Shareddrives/Compv5/FinalProject/FinalProject.html\n"
          ]
        }
      ]
    }
  ],
  "metadata": {
    "accelerator": "GPU",
    "colab": {
      "collapsed_sections": [],
      "name": "FinalProject.ipynb",
      "provenance": []
    },
    "kernelspec": {
      "display_name": "Python 3",
      "name": "python3"
    },
    "language_info": {
      "name": "python"
    }
  },
  "nbformat": 4,
  "nbformat_minor": 0
}